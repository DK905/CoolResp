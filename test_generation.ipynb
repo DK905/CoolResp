{
 "cells": [
  {
   "cell_type": "markdown",
   "id": "e69efb14-3dc3-42f5-b34d-5fbeae313dde",
   "metadata": {},
   "source": [
    "# Импорт библиотек"
   ]
  },
  {
   "cell_type": "code",
   "execution_count": 53,
   "id": "e503563f-162d-4557-96c5-4e6a3f15a3f5",
   "metadata": {},
   "outputs": [],
   "source": [
    "import requests\n",
    "import os\n",
    "import re"
   ]
  },
  {
   "cell_type": "code",
   "execution_count": 5,
   "id": "4949f3bf-be9a-42e9-9002-00f36376468f",
   "metadata": {},
   "outputs": [],
   "source": [
    "# Тип вывода результатов в jupiter\n",
    "from IPython.core.interactiveshell import InteractiveShell\n",
    "\n",
    "jup_conds = ['all',                # Показывать все вызовы\n",
    "             'last',               # Показывать последнюю общность вызовов (если последним будет идти цикл с вызовами, выведет все его вызовы)\n",
    "             'last_expr',          # Показывать самый последний вызов\n",
    "             'none',               # Ничего не показывать\n",
    "             'last_expr_or_assign' # Показывать последний вызов или присваивание\n",
    "            ]\n",
    "\n",
    "InteractiveShell.ast_node_interactivity = jup_conds[0]"
   ]
  },
  {
   "cell_type": "code",
   "execution_count": 7,
   "id": "982700a9-69db-4824-91b4-697fef0ac21c",
   "metadata": {},
   "outputs": [],
   "source": [
    "base_dir = os.getcwd()\n",
    "path_load = os.path.join(base_dir, 'Temporary', 'To_send')    # Путь к директории с исходными файлами\n",
    "path_save = os.path.join(base_dir, 'Temporary', 'Generated')  # Путь к директории с сгенерированными файлами"
   ]
  },
  {
   "cell_type": "code",
   "execution_count": 10,
   "id": "75545159-b186-4304-90f3-87f53fefe59a",
   "metadata": {},
   "outputs": [],
   "source": [
    "def post_request(file_path):\n",
    "    with open(file_path, 'rb') as data:\n",
    "        request = requests.post('http://127.0.0.1:5000/read-book', files={'file': data})\n",
    "        print(f'Загрузка книги. Код ответа «{request.status_code}»')\n",
    "        # print(f'Данные: {request.content}')\n",
    "        return request"
   ]
  },
  {
   "cell_type": "markdown",
   "id": "c6a55811-68f8-4074-82b9-4c2075477c62",
   "metadata": {},
   "source": [
    "# Тест на одном файле"
   ]
  },
  {
   "cell_type": "code",
   "execution_count": 11,
   "id": "280a07de-94e9-4ed4-8b4c-c1329efd2d08",
   "metadata": {},
   "outputs": [
    {
     "name": "stdout",
     "output_type": "stream",
     "text": [
      "Загрузка книги. Код ответа «200»\n"
     ]
    },
    {
     "data": {
      "text/plain": [
       "{'file_hash': '19e390e4fd80a2b80f448e87289087af308324307b6314e84e3085c1e27383b4',\n",
       " 'sheets': {'ПЕ-81б (2)': ['ПЕ-81б']}}"
      ]
     },
     "execution_count": 11,
     "metadata": {},
     "output_type": "execute_result"
    }
   ],
   "source": [
    "r = post_request(os.path.join(base_dir, 'Tests', 'Datasets', 'PE-81b_2semestr_24_01-13_04.xlsx')).json()\n",
    "r"
   ]
  },
  {
   "cell_type": "code",
   "execution_count": 98,
   "id": "72be5b05-7c48-4add-aefe-b74d4d2827a5",
   "metadata": {},
   "outputs": [
    {
     "data": {
      "text/plain": [
       "200"
      ]
     },
     "execution_count": 98,
     "metadata": {},
     "output_type": "execute_result"
    },
    {
     "data": {
      "text/plain": [
       "'filename'"
      ]
     },
     "execution_count": 98,
     "metadata": {},
     "output_type": "execute_result"
    }
   ],
   "source": [
    "file_hash = r['file_hash']\n",
    "# result_types = ['json']\n",
    "result_types = ['excel']\n",
    "for sheet_name, groups in r['sheets'].items():\n",
    "    for group_name in groups:\n",
    "        for result_type in result_types:\n",
    "            request = requests.post(f'http://127.0.0.1:5000/parse-book/{file_hash}/{sheet_name}/{group_name}/{result_type}')\n",
    "            request.status_code\n",
    "            re.findall(r\"filename\", request.headers['Content-Disposition'])[0]\n",
    "            # with open(os.path.join(path_save, f'{group_name}.xlsx'), 'wb') as saved_file:\n",
    "            #     saved_file.write(file)\n",
    "            # request.content"
   ]
  },
  {
   "cell_type": "code",
   "execution_count": 104,
   "id": "2b964a25-1101-4033-8f67-978e05830cbe",
   "metadata": {},
   "outputs": [
    {
     "name": "stdout",
     "output_type": "stream",
     "text": [
      "Respa dla PE-81b na [25.01.2022 - 13.04.2022].xlsx\n"
     ]
    }
   ],
   "source": [
    "print(re.findall(r'filename=\"(.*)\"', request.headers['Content-Disposition'])[0])"
   ]
  },
  {
   "cell_type": "code",
   "execution_count": 97,
   "id": "a4b62e42-0fd5-4f27-a779-871d8947f5a6",
   "metadata": {},
   "outputs": [
    {
     "data": {
      "text/plain": [
       "{'Server': 'Werkzeug/2.1.1 Python/3.9.1', 'Date': 'Mon, 25 Apr 2022 09:06:14 GMT', 'Content-Disposition': 'inline; filename=\"Respa dla PE-81b na [25.01.2022 - 13.04.2022].xlsx\"', 'Content-Type': 'application/vnd.openxmlformats-officedocument.spreadsheetml.sheet', 'Content-Length': '14036', 'Last-Modified': 'Mon, 25 Apr 2022 09:06:14 GMT', 'Cache-Control': 'no-cache', 'ETag': '\"1650877574.1997921-14036-1337399471\"'}"
      ]
     },
     "execution_count": 97,
     "metadata": {},
     "output_type": "execute_result"
    }
   ],
   "source": [
    "request.headers"
   ]
  },
  {
   "cell_type": "code",
   "execution_count": 105,
   "id": "9f4bc6d7-87d6-44f0-8c16-49dca8d8a915",
   "metadata": {},
   "outputs": [
    {
     "data": {
      "text/plain": [
       "14036"
      ]
     },
     "execution_count": 105,
     "metadata": {},
     "output_type": "execute_result"
    }
   ],
   "source": [
    "with open(os.path.join(path_save, re.findall(r'filename=\"(.*)\"', request.headers['Content-Disposition'])[0]), 'wb') as saved_file:\n",
    "    saved_file.write(request.content)"
   ]
  },
  {
   "cell_type": "markdown",
   "id": "d47d31a8-d2b4-4da1-a534-ee822b812f9e",
   "metadata": {},
   "source": [
    "# Генератор отформатированных файлов"
   ]
  },
  {
   "cell_type": "code",
   "execution_count": 115,
   "id": "28d59217-a87f-46e7-aad7-90e28c09295f",
   "metadata": {},
   "outputs": [
    {
     "data": {
      "text/plain": [
       "16751"
      ]
     },
     "execution_count": 115,
     "metadata": {},
     "output_type": "execute_result"
    },
    {
     "name": "stdout",
     "output_type": "stream",
     "text": [
      "zbs\n"
     ]
    },
    {
     "data": {
      "text/plain": [
       "17576"
      ]
     },
     "execution_count": 115,
     "metadata": {},
     "output_type": "execute_result"
    },
    {
     "name": "stdout",
     "output_type": "stream",
     "text": [
      "zbs\n"
     ]
    },
    {
     "data": {
      "text/plain": [
       "15891"
      ]
     },
     "execution_count": 115,
     "metadata": {},
     "output_type": "execute_result"
    },
    {
     "name": "stdout",
     "output_type": "stream",
     "text": [
      "zbs\n"
     ]
    },
    {
     "data": {
      "text/plain": [
       "16473"
      ]
     },
     "execution_count": 115,
     "metadata": {},
     "output_type": "execute_result"
    },
    {
     "name": "stdout",
     "output_type": "stream",
     "text": [
      "zbs\n"
     ]
    },
    {
     "data": {
      "text/plain": [
       "16197"
      ]
     },
     "execution_count": 115,
     "metadata": {},
     "output_type": "execute_result"
    },
    {
     "name": "stdout",
     "output_type": "stream",
     "text": [
      "zbs\n"
     ]
    },
    {
     "data": {
      "text/plain": [
       "15927"
      ]
     },
     "execution_count": 115,
     "metadata": {},
     "output_type": "execute_result"
    },
    {
     "name": "stdout",
     "output_type": "stream",
     "text": [
      "zbs\n"
     ]
    },
    {
     "data": {
      "text/plain": [
       "16498"
      ]
     },
     "execution_count": 115,
     "metadata": {},
     "output_type": "execute_result"
    },
    {
     "name": "stdout",
     "output_type": "stream",
     "text": [
      "zbs\n"
     ]
    },
    {
     "data": {
      "text/plain": [
       "15761"
      ]
     },
     "execution_count": 115,
     "metadata": {},
     "output_type": "execute_result"
    },
    {
     "name": "stdout",
     "output_type": "stream",
     "text": [
      "zbs\n"
     ]
    },
    {
     "data": {
      "text/plain": [
       "15439"
      ]
     },
     "execution_count": 115,
     "metadata": {},
     "output_type": "execute_result"
    },
    {
     "name": "stdout",
     "output_type": "stream",
     "text": [
      "zbs\n"
     ]
    },
    {
     "data": {
      "text/plain": [
       "15411"
      ]
     },
     "execution_count": 115,
     "metadata": {},
     "output_type": "execute_result"
    },
    {
     "name": "stdout",
     "output_type": "stream",
     "text": [
      "zbs\n"
     ]
    },
    {
     "data": {
      "text/plain": [
       "16061"
      ]
     },
     "execution_count": 115,
     "metadata": {},
     "output_type": "execute_result"
    },
    {
     "name": "stdout",
     "output_type": "stream",
     "text": [
      "zbs\n"
     ]
    },
    {
     "data": {
      "text/plain": [
       "16819"
      ]
     },
     "execution_count": 115,
     "metadata": {},
     "output_type": "execute_result"
    },
    {
     "name": "stdout",
     "output_type": "stream",
     "text": [
      "zbs\n"
     ]
    },
    {
     "data": {
      "text/plain": [
       "16453"
      ]
     },
     "execution_count": 115,
     "metadata": {},
     "output_type": "execute_result"
    },
    {
     "name": "stdout",
     "output_type": "stream",
     "text": [
      "zbs\n"
     ]
    },
    {
     "data": {
      "text/plain": [
       "15626"
      ]
     },
     "execution_count": 115,
     "metadata": {},
     "output_type": "execute_result"
    },
    {
     "name": "stdout",
     "output_type": "stream",
     "text": [
      "zbs\n"
     ]
    },
    {
     "data": {
      "text/plain": [
       "16219"
      ]
     },
     "execution_count": 115,
     "metadata": {},
     "output_type": "execute_result"
    },
    {
     "name": "stdout",
     "output_type": "stream",
     "text": [
      "zbs\n"
     ]
    },
    {
     "data": {
      "text/plain": [
       "15421"
      ]
     },
     "execution_count": 115,
     "metadata": {},
     "output_type": "execute_result"
    },
    {
     "name": "stdout",
     "output_type": "stream",
     "text": [
      "zbs\n"
     ]
    },
    {
     "data": {
      "text/plain": [
       "13156"
      ]
     },
     "execution_count": 115,
     "metadata": {},
     "output_type": "execute_result"
    },
    {
     "name": "stdout",
     "output_type": "stream",
     "text": [
      "zbs\n"
     ]
    },
    {
     "data": {
      "text/plain": [
       "12795"
      ]
     },
     "execution_count": 115,
     "metadata": {},
     "output_type": "execute_result"
    },
    {
     "name": "stdout",
     "output_type": "stream",
     "text": [
      "zbs\n"
     ]
    },
    {
     "data": {
      "text/plain": [
       "12878"
      ]
     },
     "execution_count": 115,
     "metadata": {},
     "output_type": "execute_result"
    },
    {
     "name": "stdout",
     "output_type": "stream",
     "text": [
      "zbs\n"
     ]
    },
    {
     "data": {
      "text/plain": [
       "20384"
      ]
     },
     "execution_count": 115,
     "metadata": {},
     "output_type": "execute_result"
    },
    {
     "name": "stdout",
     "output_type": "stream",
     "text": [
      "zbs\n"
     ]
    },
    {
     "data": {
      "text/plain": [
       "16172"
      ]
     },
     "execution_count": 115,
     "metadata": {},
     "output_type": "execute_result"
    },
    {
     "name": "stdout",
     "output_type": "stream",
     "text": [
      "zbs\n"
     ]
    },
    {
     "data": {
      "text/plain": [
       "16053"
      ]
     },
     "execution_count": 115,
     "metadata": {},
     "output_type": "execute_result"
    },
    {
     "name": "stdout",
     "output_type": "stream",
     "text": [
      "zbs\n"
     ]
    },
    {
     "data": {
      "text/plain": [
       "15856"
      ]
     },
     "execution_count": 115,
     "metadata": {},
     "output_type": "execute_result"
    },
    {
     "name": "stdout",
     "output_type": "stream",
     "text": [
      "zbs\n"
     ]
    }
   ],
   "source": [
    "for root, d, files in os.walk(path_load):\n",
    "    for file_path in files:        \n",
    "        with open(os.path.join(root, file_path), 'rb') as data:\n",
    "            req = requests.post('http://127.0.0.1:5000/read-book', files={'file': data}).json()\n",
    "            file_hash = req['file_hash']\n",
    "            for sheet_name, groups in req['sheets'].items():\n",
    "                for group_name in groups:\n",
    "                    file = requests.post(f'http://127.0.0.1:5000/parse-book/{file_hash}/{sheet_name}/{group_name}/excel')\n",
    "                    with open(os.path.join(path_save, re.findall(r'filename=\"(.*)\"', file.headers['Content-Disposition'])[0]), 'wb') as saved_file:\n",
    "                        saved_file.write(file.content)"
   ]
  },
  {
   "cell_type": "code",
   "execution_count": 109,
   "id": "411bd979-2394-49eb-adad-3c02838f81d6",
   "metadata": {},
   "outputs": [
    {
     "data": {
      "text/plain": [
       "'D:\\\\CoolResp\\\\Temporary\\\\To_send'"
      ]
     },
     "execution_count": 109,
     "metadata": {},
     "output_type": "execute_result"
    }
   ],
   "source": [
    "path_load"
   ]
  }
 ],
 "metadata": {
  "kernelspec": {
   "display_name": "Python 3 (ipykernel)",
   "language": "python",
   "name": "python3"
  },
  "language_info": {
   "codemirror_mode": {
    "name": "ipython",
    "version": 3
   },
   "file_extension": ".py",
   "mimetype": "text/x-python",
   "name": "python",
   "nbconvert_exporter": "python",
   "pygments_lexer": "ipython3",
   "version": "3.8.10"
  }
 },
 "nbformat": 4,
 "nbformat_minor": 5
}
