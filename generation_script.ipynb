{
 "cells": [
  {
   "cell_type": "markdown",
   "id": "e69efb14-3dc3-42f5-b34d-5fbeae313dde",
   "metadata": {},
   "source": [
    "# Импорт библиотек"
   ]
  },
  {
   "cell_type": "code",
   "execution_count": 1,
   "id": "2a87147b-84eb-43d7-8924-e2eb90b7544c",
   "metadata": {},
   "outputs": [],
   "source": [
    "# !pip install excel2img"
   ]
  },
  {
   "cell_type": "code",
   "execution_count": 46,
   "id": "6fd8dab6-f15d-4bcf-9ae7-e0fb10a18a15",
   "metadata": {},
   "outputs": [],
   "source": [
    "from IPython.display import Image\n",
    "import excel2img\n",
    "import requests\n",
    "import os\n",
    "import re\n",
    "import pandas as pd\n",
    "import time"
   ]
  },
  {
   "cell_type": "code",
   "execution_count": 63,
   "id": "4949f3bf-be9a-42e9-9002-00f36376468f",
   "metadata": {},
   "outputs": [],
   "source": [
    "# Тип вывода результатов в jupiter\n",
    "from IPython.core.interactiveshell import InteractiveShell\n",
    "\n",
    "jup_conds = ['all',                # Показывать все вызовы\n",
    "             'last',               # Показывать последнюю общность вызовов (если последним будет идти цикл с вызовами, выведет все его вызовы)\n",
    "             'last_expr',          # Показывать самый последний вызов\n",
    "             'none',               # Ничего не показывать\n",
    "             'last_expr_or_assign' # Показывать последний вызов или присваивание\n",
    "            ]\n",
    "\n",
    "InteractiveShell.ast_node_interactivity = jup_conds[0]"
   ]
  },
  {
   "cell_type": "code",
   "execution_count": 4,
   "id": "982700a9-69db-4824-91b4-697fef0ac21c",
   "metadata": {},
   "outputs": [],
   "source": [
    "base_dir = os.getcwd()\n",
    "path_load = os.path.join(base_dir, 'Temporary', 'To_send')    # Путь к директории с исходными файлами\n",
    "path_save = os.path.join(base_dir, 'Temporary', 'Generated')  # Путь к директории с сгенерированными файлами\n",
    "\n",
    "# path_load = os.path.join(base_dir, 'Tests', 'Datasets')    # Путь к директории с исходными файлами\n",
    "# path_save = os.path.join(base_dir, 'Temporary', 'Generated')  # Путь к директории с сгенерированными файлами"
   ]
  },
  {
   "cell_type": "code",
   "execution_count": 5,
   "id": "1a9e6c58-fe58-4e73-a390-1da632a2e174",
   "metadata": {},
   "outputs": [],
   "source": [
    "# excel2img.export_img(os.path.join(base_dir, 'Tests', 'Results', 'Респа для ПЕ-81б на [25.01.2022 - 13.04.2022].xlsx'), \"test.png\", \"Январь\", None)"
   ]
  },
  {
   "cell_type": "markdown",
   "id": "26ee5939-c402-4b36-a3eb-bf9e824fcd3f",
   "metadata": {},
   "source": [
    "![title](test.png)"
   ]
  },
  {
   "cell_type": "markdown",
   "id": "1e5bb3bf-90b5-4982-9ded-bf268b8965d3",
   "metadata": {},
   "source": [
    "# Генератор отформатированных файлов"
   ]
  },
  {
   "cell_type": "code",
   "execution_count": 44,
   "id": "28d59217-a87f-46e7-aad7-90e28c09295f",
   "metadata": {
    "collapsed": true,
    "jupyter": {
     "outputs_hidden": true
    },
    "tags": []
   },
   "outputs": [
    {
     "name": "stdout",
     "output_type": "stream",
     "text": [
      "PE-01_02B_2_polug_2021-2022_s_31_01.xlsx ПЕ-01б\n",
      "200\n",
      "PE-01_02B_2_polug_2021-2022_s_31_01.xlsx ПЕ-02б\n",
      "200\n",
      "PE-81b_2semestr_24_01-16_04__vremennoe.xlsx ПЕ-81б\n",
      "200\n"
     ]
    }
   ],
   "source": [
    "# Проход по файлам в папке\n",
    "for root, d, files in os.walk(path_load):\n",
    "    for file_path in files:        \n",
    "        with open(os.path.join(root, file_path), 'rb') as data:\n",
    "            req = requests.post('http://127.0.0.1:5000/read-book', files={'file': data}).json()\n",
    "            file_hash = req['file_hash']\n",
    "            for sheet_name, groups in req['sheets'].items():\n",
    "                for group_name in groups:\n",
    "                    print(file_path, group_name)\n",
    "                    time.sleep(0.01)\n",
    "                    req = requests.post(f'http://127.0.0.1:5000/parse-book/{file_hash}/{sheet_name}/{group_name}/json')\n",
    "                    print(req.status_code)"
   ]
  },
  {
   "cell_type": "code",
   "execution_count": 47,
   "id": "8efdd078-1cd0-4177-8091-afb6fbae2346",
   "metadata": {
    "tags": []
   },
   "outputs": [
    {
     "name": "stdout",
     "output_type": "stream",
     "text": [
      "Объединение книг за «2022» год. Код ответа «200»\n"
     ]
    },
    {
     "data": {
      "text/html": [
       "<div>\n",
       "<style scoped>\n",
       "    .dataframe tbody tr th:only-of-type {\n",
       "        vertical-align: middle;\n",
       "    }\n",
       "\n",
       "    .dataframe tbody tr th {\n",
       "        vertical-align: top;\n",
       "    }\n",
       "\n",
       "    .dataframe thead th {\n",
       "        text-align: right;\n",
       "    }\n",
       "</style>\n",
       "<table border=\"1\" class=\"dataframe\">\n",
       "  <thead>\n",
       "    <tr style=\"text-align: right;\">\n",
       "      <th></th>\n",
       "      <th>group</th>\n",
       "      <th>day</th>\n",
       "      <th>num</th>\n",
       "      <th>item_name</th>\n",
       "      <th>teacher</th>\n",
       "      <th>type</th>\n",
       "      <th>pdgr</th>\n",
       "      <th>date_pair</th>\n",
       "      <th>cab</th>\n",
       "    </tr>\n",
       "  </thead>\n",
       "  <tbody>\n",
       "    <tr>\n",
       "      <th>0</th>\n",
       "      <td>ПЕ-81б</td>\n",
       "      <td>ПН</td>\n",
       "      <td>1</td>\n",
       "      <td>Сетевое программное обеспечение</td>\n",
       "      <td>ст.преподаватель Лебедев Г.К.</td>\n",
       "      <td>ЛБ</td>\n",
       "      <td>2</td>\n",
       "      <td>2022-01-31</td>\n",
       "      <td>306 УК№1</td>\n",
       "    </tr>\n",
       "    <tr>\n",
       "      <th>1</th>\n",
       "      <td>ПЕ-81б</td>\n",
       "      <td>ПН</td>\n",
       "      <td>1</td>\n",
       "      <td>Сетевое программное обеспечение</td>\n",
       "      <td>ст.преподаватель Лебедев Г.К.</td>\n",
       "      <td>ЛБ</td>\n",
       "      <td>2</td>\n",
       "      <td>2022-02-07</td>\n",
       "      <td>306 УК№1</td>\n",
       "    </tr>\n",
       "    <tr>\n",
       "      <th>2</th>\n",
       "      <td>ПЕ-81б</td>\n",
       "      <td>ПН</td>\n",
       "      <td>1</td>\n",
       "      <td>Сетевое программное обеспечение</td>\n",
       "      <td>ст.преподаватель Лебедев Г.К.</td>\n",
       "      <td>ЛБ</td>\n",
       "      <td>2</td>\n",
       "      <td>2022-02-14</td>\n",
       "      <td>306 УК№1</td>\n",
       "    </tr>\n",
       "    <tr>\n",
       "      <th>3</th>\n",
       "      <td>ПЕ-81б</td>\n",
       "      <td>ПН</td>\n",
       "      <td>1</td>\n",
       "      <td>Сетевое программное обеспечение</td>\n",
       "      <td>ст.преподаватель Лебедев Г.К.</td>\n",
       "      <td>ЛБ</td>\n",
       "      <td>2</td>\n",
       "      <td>2022-02-21</td>\n",
       "      <td>306 УК№1</td>\n",
       "    </tr>\n",
       "    <tr>\n",
       "      <th>4</th>\n",
       "      <td>ПЕ-81б</td>\n",
       "      <td>ПН</td>\n",
       "      <td>1</td>\n",
       "      <td>Сетевое программное обеспечение</td>\n",
       "      <td>ст.преподаватель Лебедев Г.К.</td>\n",
       "      <td>ЛБ</td>\n",
       "      <td>2</td>\n",
       "      <td>2022-02-28</td>\n",
       "      <td>306 УК№1</td>\n",
       "    </tr>\n",
       "  </tbody>\n",
       "</table>\n",
       "</div>"
      ],
      "text/plain": [
       "    group day  num                        item_name  \\\n",
       "0  ПЕ-81б  ПН    1  Сетевое программное обеспечение   \n",
       "1  ПЕ-81б  ПН    1  Сетевое программное обеспечение   \n",
       "2  ПЕ-81б  ПН    1  Сетевое программное обеспечение   \n",
       "3  ПЕ-81б  ПН    1  Сетевое программное обеспечение   \n",
       "4  ПЕ-81б  ПН    1  Сетевое программное обеспечение   \n",
       "\n",
       "                         teacher type pdgr  date_pair       cab  \n",
       "0  ст.преподаватель Лебедев Г.К.   ЛБ    2 2022-01-31  306 УК№1  \n",
       "1  ст.преподаватель Лебедев Г.К.   ЛБ    2 2022-02-07  306 УК№1  \n",
       "2  ст.преподаватель Лебедев Г.К.   ЛБ    2 2022-02-14  306 УК№1  \n",
       "3  ст.преподаватель Лебедев Г.К.   ЛБ    2 2022-02-21  306 УК№1  \n",
       "4  ст.преподаватель Лебедев Г.К.   ЛБ    2 2022-02-28  306 УК№1  "
      ]
     },
     "execution_count": 47,
     "metadata": {},
     "output_type": "execute_result"
    }
   ],
   "source": [
    "year = 2022\n",
    "request = requests.post(f'http://127.0.0.1:5000/merge-books?year={year}')\n",
    "print(f'Объединение книг за «{year}» год. Код ответа «{request.status_code}»')\n",
    "df = pd.DataFrame(request.json())\n",
    "df['date_pair'] = df['date_pair'].astype('datetime64')\n",
    "df.head()"
   ]
  },
  {
   "cell_type": "code",
   "execution_count": 48,
   "id": "aac34e7f-371a-4b3b-8cc9-f09f96c0ec14",
   "metadata": {},
   "outputs": [
    {
     "data": {
      "text/plain": [
       "ПЕ-81б     483\n",
       "183        478\n",
       "185        430\n",
       "182        416\n",
       "181        412\n",
       "184        409\n",
       "ПЕ-02б     377\n",
       "ПЕ-01б     367\n",
       "123        361\n",
       "МИВТ-11    208\n",
       "МЕ-81б     175\n",
       "ОЕ-81б     135\n",
       "ИТ-81б     121\n",
       "МИТЕ-01     93\n",
       "Name: group, dtype: int64"
      ]
     },
     "execution_count": 48,
     "metadata": {},
     "output_type": "execute_result"
    }
   ],
   "source": [
    "df['group'].value_counts()"
   ]
  },
  {
   "cell_type": "code",
   "execution_count": 72,
   "id": "15a1fc83-ad51-4855-b9b6-afc3f69d79f3",
   "metadata": {},
   "outputs": [
    {
     "data": {
      "image/png": "[encoded data removed]",
      "text/plain": [
       "<Figure size 720x288 with 1 Axes>"
      ]
     },
     "metadata": {},
     "output_type": "display_data"
    }
   ],
   "source": [
    "teacher_surname = 'Зацепин'\n",
    "df_teachers = df[df['teacher'].str.contains(teacher_surname)]\n",
    "df_teachers['item_name'].value_counts().plot(kind = 'pie', figsize = (10, 4),\n",
    "                                             title = f'Предметы преподавателя «{teacher_surname}» в «{year}» году',\n",
    "                                             ylabel = '');"
   ]
  },
  {
   "cell_type": "code",
   "execution_count": 71,
   "id": "cad76225-fb28-4c7b-bc0c-8d56ea578c69",
   "metadata": {},
   "outputs": [
    {
     "data": {
      "image/png": "[encoded data removed]",
      "text/plain": [
       "<Figure size 720x288 with 1 Axes>"
      ]
     },
     "metadata": {},
     "output_type": "display_data"
    }
   ],
   "source": [
    "teacher_surname = 'Зацепин'\n",
    "df_teachers = df[df['teacher'].str.contains(teacher_surname)]\n",
    "df_teachers['group'].value_counts().plot(kind = 'pie', figsize = (10, 4),\n",
    "                                         title = f'Группы преподавателя «{teacher_surname}» на «{year}» год',\n",
    "                                         ylabel = '');"
   ]
  },
  {
   "cell_type": "code",
   "execution_count": 5,
   "id": "46a173ad-5889-4780-ab5d-74a933688e41",
   "metadata": {},
   "outputs": [
    {
     "data": {
      "text/plain": [
       "{'Server': 'Werkzeug/2.1.1 Python/3.8.10', 'Date': 'Fri, 06 May 2022 16:16:13 GMT', 'Content-Type': 'text/html; charset=utf-8', 'Content-Length': '51702'}"
      ]
     },
     "execution_count": 5,
     "metadata": {},
     "output_type": "execute_result"
    }
   ],
   "source": [
    "file.headers"
   ]
  },
  {
   "cell_type": "code",
   "execution_count": 10,
   "id": "75545159-b186-4304-90f3-87f53fefe59a",
   "metadata": {},
   "outputs": [],
   "source": [
    "def post_request(file_path):\n",
    "    with open(file_path, 'rb') as data:\n",
    "        request = requests.post('http://127.0.0.1:5000/read-book', files={'file': data})\n",
    "        print(f'Загрузка книги. Код ответа «{request.status_code}»')\n",
    "        # print(f'Данные: {request.content}')\n",
    "        return request"
   ]
  },
  {
   "cell_type": "markdown",
   "id": "c6a55811-68f8-4074-82b9-4c2075477c62",
   "metadata": {},
   "source": [
    "# Тест на одном файле"
   ]
  },
  {
   "cell_type": "code",
   "execution_count": 11,
   "id": "280a07de-94e9-4ed4-8b4c-c1329efd2d08",
   "metadata": {},
   "outputs": [
    {
     "name": "stdout",
     "output_type": "stream",
     "text": [
      "Загрузка книги. Код ответа «200»\n"
     ]
    },
    {
     "data": {
      "text/plain": [
       "{'file_hash': '19e390e4fd80a2b80f448e87289087af308324307b6314e84e3085c1e27383b4',\n",
       " 'sheets': {'ПЕ-81б (2)': ['ПЕ-81б']}}"
      ]
     },
     "execution_count": 11,
     "metadata": {},
     "output_type": "execute_result"
    }
   ],
   "source": [
    "r = post_request(os.path.join(base_dir, 'Tests', 'Datasets', 'PE-81b_2semestr_24_01-13_04.xlsx')).json()\n",
    "r"
   ]
  },
  {
   "cell_type": "code",
   "execution_count": 98,
   "id": "72be5b05-7c48-4add-aefe-b74d4d2827a5",
   "metadata": {},
   "outputs": [
    {
     "data": {
      "text/plain": [
       "200"
      ]
     },
     "execution_count": 98,
     "metadata": {},
     "output_type": "execute_result"
    },
    {
     "data": {
      "text/plain": [
       "'filename'"
      ]
     },
     "execution_count": 98,
     "metadata": {},
     "output_type": "execute_result"
    }
   ],
   "source": [
    "file_hash = r['file_hash']\n",
    "result_types = ['json']\n",
    "# result_types = ['excel']\n",
    "for sheet_name, groups in r['sheets'].items():\n",
    "    for group_name in groups:\n",
    "        for result_type in result_types:\n",
    "            request = requests.post(f'http://127.0.0.1:5000/parse-book/{file_hash}/{sheet_name}/{group_name}/{result_type}')\n",
    "            request.status_code\n",
    "            re.findall(r\"filename\", request.headers['Content-Disposition'])[0]\n",
    "            # with open(os.path.join(path_save, f'{group_name}.xlsx'), 'wb') as saved_file:\n",
    "            #     saved_file.write(file)\n",
    "            # request.content"
   ]
  },
  {
   "cell_type": "code",
   "execution_count": 104,
   "id": "2b964a25-1101-4033-8f67-978e05830cbe",
   "metadata": {},
   "outputs": [
    {
     "name": "stdout",
     "output_type": "stream",
     "text": [
      "Respa dla PE-81b na [25.01.2022 - 13.04.2022].xlsx\n"
     ]
    }
   ],
   "source": [
    "print(re.findall(r'filename=\"(.*)\"', request.headers['Content-Disposition'])[0])"
   ]
  },
  {
   "cell_type": "code",
   "execution_count": 97,
   "id": "a4b62e42-0fd5-4f27-a779-871d8947f5a6",
   "metadata": {},
   "outputs": [
    {
     "data": {
      "text/plain": [
       "{'Server': 'Werkzeug/2.1.1 Python/3.9.1', 'Date': 'Mon, 25 Apr 2022 09:06:14 GMT', 'Content-Disposition': 'inline; filename=\"Respa dla PE-81b na [25.01.2022 - 13.04.2022].xlsx\"', 'Content-Type': 'application/vnd.openxmlformats-officedocument.spreadsheetml.sheet', 'Content-Length': '14036', 'Last-Modified': 'Mon, 25 Apr 2022 09:06:14 GMT', 'Cache-Control': 'no-cache', 'ETag': '\"1650877574.1997921-14036-1337399471\"'}"
      ]
     },
     "execution_count": 97,
     "metadata": {},
     "output_type": "execute_result"
    }
   ],
   "source": [
    "request.headers"
   ]
  },
  {
   "cell_type": "code",
   "execution_count": 105,
   "id": "9f4bc6d7-87d6-44f0-8c16-49dca8d8a915",
   "metadata": {},
   "outputs": [
    {
     "data": {
      "text/plain": [
       "14036"
      ]
     },
     "execution_count": 105,
     "metadata": {},
     "output_type": "execute_result"
    }
   ],
   "source": [
    "with open(os.path.join(path_save, re.findall(r'filename=\"(.*)\"', request.headers['Content-Disposition'])[0]), 'wb') as saved_file:\n",
    "    saved_file.write(request.content)"
   ]
  },
  {
   "cell_type": "code",
   "execution_count": 109,
   "id": "411bd979-2394-49eb-adad-3c02838f81d6",
   "metadata": {},
   "outputs": [
    {
     "data": {
      "text/plain": [
       "'D:\\\\CoolResp\\\\Temporary\\\\To_send'"
      ]
     },
     "execution_count": 109,
     "metadata": {},
     "output_type": "execute_result"
    }
   ],
   "source": [
    "path_load"
   ]
  }
 ],
 "metadata": {
  "kernelspec": {
   "display_name": "Python 3 (ipykernel)",
   "language": "python",
   "name": "python3"
  },
  "language_info": {
   "codemirror_mode": {
    "name": "ipython",
    "version": 3
   },
   "file_extension": ".py",
   "mimetype": "text/x-python",
   "name": "python",
   "nbconvert_exporter": "python",
   "pygments_lexer": "ipython3",
   "version": "3.8.10"
  }
 },
 "nbformat": 4,
 "nbformat_minor": 5
}
