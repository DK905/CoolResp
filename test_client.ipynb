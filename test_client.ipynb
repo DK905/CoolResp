{
 "cells": [
  {
   "cell_type": "markdown",
   "id": "e44e5d99-8890-4131-8c9a-4101b4805a77",
   "metadata": {},
   "source": [
    "# Описание блокнота\n",
    "\n",
    "Данный блокнот служит для наглядного тестирования клиентского взаимодействия с API."
   ]
  },
  {
   "cell_type": "markdown",
   "id": "966a94aa-c966-4ac1-875d-2d0bbdee3327",
   "metadata": {
    "tags": []
   },
   "source": [
    "# 0. Импорт библиотек"
   ]
  },
  {
   "cell_type": "code",
   "execution_count": 1,
   "id": "367dbf1e-a93c-4d6e-8b60-97545de0ecf9",
   "metadata": {},
   "outputs": [],
   "source": [
    "# !pip install -r jupiter-requirements.txt"
   ]
  },
  {
   "cell_type": "code",
   "execution_count": 1,
   "id": "00ca41f1-5e39-4c40-8dd5-74f4fa7548ba",
   "metadata": {},
   "outputs": [],
   "source": [
    "import pandas as pd\n",
    "import requests\n",
    "import os"
   ]
  },
  {
   "cell_type": "code",
   "execution_count": 2,
   "id": "f3be5fef-edec-4792-8d86-ee833528aaa3",
   "metadata": {},
   "outputs": [],
   "source": [
    "# Тип вывода результатов в jupiter\n",
    "from IPython.core.interactiveshell import InteractiveShell\n",
    "\n",
    "jup_conds = ['all',                # Показывать все вызовы\n",
    "             'last',               # Показывать последнюю общность вызовов (если последним будет идти цикл с вызовами, выведет все его вызовы)\n",
    "             'last_expr',          # Показывать самый последний вызов\n",
    "             'none',               # Ничего не показывать\n",
    "             'last_expr_or_assign' # Показывать последний вызов или присваивание\n",
    "            ]\n",
    "\n",
    "InteractiveShell.ast_node_interactivity = jup_conds[0]"
   ]
  },
  {
   "cell_type": "markdown",
   "id": "fe6ba926-228b-4c90-a008-11ea9c4bf2a8",
   "metadata": {},
   "source": [
    "# 1. Проверка работоспособности API"
   ]
  },
  {
   "cell_type": "code",
   "execution_count": 3,
   "id": "2789d1d9-8f12-44f5-95af-b1cbc6e5c074",
   "metadata": {},
   "outputs": [],
   "source": [
    "def post_request(file_path):\n",
    "    with open(file_path, 'rb') as data:\n",
    "        request = requests.post('http://127.0.0.1:5000/read-book', files={'file': data})\n",
    "        print(f'Загрузка книги. Код ответа «{request.status_code}»')\n",
    "        # print(f'Данные: {request.content}')\n",
    "        return request"
   ]
  },
  {
   "cell_type": "code",
   "execution_count": 4,
   "id": "ad37cb7c-a732-4b08-956a-b454e7fe5d5d",
   "metadata": {},
   "outputs": [],
   "source": [
    "base_dir = os.getcwd()"
   ]
  },
  {
   "cell_type": "code",
   "execution_count": 6,
   "id": "e5547fd3-4455-4354-bc0a-b38fc904bbd6",
   "metadata": {},
   "outputs": [
    {
     "name": "stdout",
     "output_type": "stream",
     "text": [
      "Загрузка книги. Код ответа «200»\n"
     ]
    },
    {
     "data": {
      "text/plain": [
       "{'file_hash': '19e390e4fd80a2b80f448e87289087af308324307b6314e84e3085c1e27383b4',\n",
       " 'sheets': {'ПЕ-81б (2)': ['ПЕ-81б']}}"
      ]
     },
     "execution_count": 6,
     "metadata": {},
     "output_type": "execute_result"
    }
   ],
   "source": [
    "r = post_request(os.path.join(base_dir, 'Tests', 'Datasets', 'PE-81b_2semestr_24_01-13_04.xlsx')).json()\n",
    "r"
   ]
  },
  {
   "cell_type": "code",
   "execution_count": 10,
   "id": "cf02bd1e-ddf9-47fe-8e59-8d426958910e",
   "metadata": {},
   "outputs": [
    {
     "name": "stdout",
     "output_type": "stream",
     "text": [
      "Загрузка книги. Код ответа «200»\n"
     ]
    },
    {
     "data": {
      "text/plain": [
       "{'file_hash': 'ca30529fc31f721c5442fcc7a84a920235e0d8670e3b06cfa00eec932cc930fb',\n",
       " 'sheets': {'ПЕ-92б': ['ПЕ-92б']}}"
      ]
     },
     "execution_count": 10,
     "metadata": {},
     "output_type": "execute_result"
    }
   ],
   "source": [
    "r = post_request(os.path.join(base_dir, 'Tests', 'Datasets', 'PE-92b_2_semestr.xls')).json()\n",
    "r"
   ]
  },
  {
   "cell_type": "code",
   "execution_count": 11,
   "id": "e88baafd-13a3-4011-bac1-b850445f15e2",
   "metadata": {},
   "outputs": [
    {
     "data": {
      "text/plain": [
       "200"
      ]
     },
     "execution_count": 11,
     "metadata": {},
     "output_type": "execute_result"
    }
   ],
   "source": [
    "request = requests.post(f'http://127.0.0.1:5000/merge-books', json=[1, 2, 3, 4])\n",
    "request.status_code"
   ]
  },
  {
   "cell_type": "code",
   "execution_count": 4,
   "id": "7a065f3e-4c01-4e96-b77c-556d263c37be",
   "metadata": {},
   "outputs": [
    {
     "data": {
      "text/plain": [
       "200"
      ]
     },
     "execution_count": 4,
     "metadata": {},
     "output_type": "execute_result"
    },
    {
     "data": {
      "text/html": [
       "<div>\n",
       "<style scoped>\n",
       "    .dataframe tbody tr th:only-of-type {\n",
       "        vertical-align: middle;\n",
       "    }\n",
       "\n",
       "    .dataframe tbody tr th {\n",
       "        vertical-align: top;\n",
       "    }\n",
       "\n",
       "    .dataframe thead th {\n",
       "        text-align: right;\n",
       "    }\n",
       "</style>\n",
       "<table border=\"1\" class=\"dataframe\">\n",
       "  <thead>\n",
       "    <tr style=\"text-align: right;\">\n",
       "      <th></th>\n",
       "      <th>group</th>\n",
       "      <th>day</th>\n",
       "      <th>num</th>\n",
       "      <th>item_name</th>\n",
       "      <th>teacher</th>\n",
       "      <th>type</th>\n",
       "      <th>pdgr</th>\n",
       "      <th>date_pair</th>\n",
       "      <th>cab</th>\n",
       "    </tr>\n",
       "  </thead>\n",
       "  <tbody>\n",
       "    <tr>\n",
       "      <th>0</th>\n",
       "      <td>МЕ-81б</td>\n",
       "      <td>ПН</td>\n",
       "      <td>2</td>\n",
       "      <td>День самоподготовки</td>\n",
       "      <td>доцент Неизвестных Н.Д.</td>\n",
       "      <td>рейд</td>\n",
       "      <td>общ</td>\n",
       "      <td>2021-11-01T00:00:00.000Z</td>\n",
       "      <td>НД</td>\n",
       "    </tr>\n",
       "    <tr>\n",
       "      <th>1</th>\n",
       "      <td>МЕ-81б</td>\n",
       "      <td>ПН</td>\n",
       "      <td>2</td>\n",
       "      <td>День самоподготовки</td>\n",
       "      <td>доцент Неизвестных Н.Д.</td>\n",
       "      <td>рейд</td>\n",
       "      <td>общ</td>\n",
       "      <td>2021-11-08T00:00:00.000Z</td>\n",
       "      <td>НД</td>\n",
       "    </tr>\n",
       "    <tr>\n",
       "      <th>2</th>\n",
       "      <td>МЕ-81б</td>\n",
       "      <td>ПН</td>\n",
       "      <td>2</td>\n",
       "      <td>День самоподготовки</td>\n",
       "      <td>доцент Неизвестных Н.Д.</td>\n",
       "      <td>рейд</td>\n",
       "      <td>общ</td>\n",
       "      <td>2021-11-15T00:00:00.000Z</td>\n",
       "      <td>НД</td>\n",
       "    </tr>\n",
       "    <tr>\n",
       "      <th>3</th>\n",
       "      <td>МЕ-81б</td>\n",
       "      <td>ПН</td>\n",
       "      <td>2</td>\n",
       "      <td>День самоподготовки</td>\n",
       "      <td>доцент Неизвестных Н.Д.</td>\n",
       "      <td>рейд</td>\n",
       "      <td>общ</td>\n",
       "      <td>2021-11-22T00:00:00.000Z</td>\n",
       "      <td>НД</td>\n",
       "    </tr>\n",
       "    <tr>\n",
       "      <th>4</th>\n",
       "      <td>МЕ-81б</td>\n",
       "      <td>ПН</td>\n",
       "      <td>2</td>\n",
       "      <td>День самоподготовки</td>\n",
       "      <td>доцент Неизвестных Н.Д.</td>\n",
       "      <td>рейд</td>\n",
       "      <td>общ</td>\n",
       "      <td>2021-11-29T00:00:00.000Z</td>\n",
       "      <td>НД</td>\n",
       "    </tr>\n",
       "  </tbody>\n",
       "</table>\n",
       "</div>"
      ],
      "text/plain": [
       "    group day  num            item_name                  teacher  type pdgr  \\\n",
       "0  МЕ-81б  ПН    2  День самоподготовки  доцент Неизвестных Н.Д.  рейд  общ   \n",
       "1  МЕ-81б  ПН    2  День самоподготовки  доцент Неизвестных Н.Д.  рейд  общ   \n",
       "2  МЕ-81б  ПН    2  День самоподготовки  доцент Неизвестных Н.Д.  рейд  общ   \n",
       "3  МЕ-81б  ПН    2  День самоподготовки  доцент Неизвестных Н.Д.  рейд  общ   \n",
       "4  МЕ-81б  ПН    2  День самоподготовки  доцент Неизвестных Н.Д.  рейд  общ   \n",
       "\n",
       "                  date_pair cab  \n",
       "0  2021-11-01T00:00:00.000Z  НД  \n",
       "1  2021-11-08T00:00:00.000Z  НД  \n",
       "2  2021-11-15T00:00:00.000Z  НД  \n",
       "3  2021-11-22T00:00:00.000Z  НД  \n",
       "4  2021-11-29T00:00:00.000Z  НД  "
      ]
     },
     "execution_count": 4,
     "metadata": {},
     "output_type": "execute_result"
    }
   ],
   "source": [
    "request = requests.post(f'http://127.0.0.1:5000/merge-books')\n",
    "request.status_code\n",
    "df = pd.DataFrame(request.json())\n",
    "df.head()"
   ]
  },
  {
   "cell_type": "code",
   "execution_count": 5,
   "id": "d6c1e1c0-a532-4bbe-a2ac-83f3e56caf51",
   "metadata": {},
   "outputs": [],
   "source": [
    "df.to_json('merged.json',   # Имя сохраняемого файла ИЛИ преобразуемый объект\n",
    "          orient='records',   # Стиль JSON файла\n",
    "          indent=4,           # Уровень отступов внутри файла\n",
    "          force_ascii=False,  # Запись в ASCII?\n",
    "          date_format='iso')  # Формат записи даты"
   ]
  },
  {
   "cell_type": "code",
   "execution_count": 20,
   "id": "aa85aced-cebd-409d-8f42-22500241dd43",
   "metadata": {},
   "outputs": [
    {
     "data": {
      "text/plain": [
       "200"
      ]
     },
     "execution_count": 20,
     "metadata": {},
     "output_type": "execute_result"
    },
    {
     "data": {
      "text/html": [
       "<div>\n",
       "<style scoped>\n",
       "    .dataframe tbody tr th:only-of-type {\n",
       "        vertical-align: middle;\n",
       "    }\n",
       "\n",
       "    .dataframe tbody tr th {\n",
       "        vertical-align: top;\n",
       "    }\n",
       "\n",
       "    .dataframe thead th {\n",
       "        text-align: right;\n",
       "    }\n",
       "</style>\n",
       "<table border=\"1\" class=\"dataframe\">\n",
       "  <thead>\n",
       "    <tr style=\"text-align: right;\">\n",
       "      <th></th>\n",
       "      <th>group</th>\n",
       "      <th>day</th>\n",
       "      <th>num</th>\n",
       "      <th>item_name</th>\n",
       "      <th>teacher</th>\n",
       "      <th>type</th>\n",
       "      <th>pdgr</th>\n",
       "      <th>date_pair</th>\n",
       "      <th>cab</th>\n",
       "    </tr>\n",
       "  </thead>\n",
       "  <tbody>\n",
       "    <tr>\n",
       "      <th>0</th>\n",
       "      <td>921</td>\n",
       "      <td>ПН</td>\n",
       "      <td>1</td>\n",
       "      <td>Математика</td>\n",
       "      <td>преподаватель высшей категории Чикризова Т.М.</td>\n",
       "      <td>лекция</td>\n",
       "      <td>общ</td>\n",
       "      <td>2020-01-13T00:00:00.000Z</td>\n",
       "      <td>125 УК№5</td>\n",
       "    </tr>\n",
       "    <tr>\n",
       "      <th>1</th>\n",
       "      <td>921</td>\n",
       "      <td>ПН</td>\n",
       "      <td>1</td>\n",
       "      <td>Математика</td>\n",
       "      <td>преподаватель высшей категории Чикризова Т.М.</td>\n",
       "      <td>лекция</td>\n",
       "      <td>общ</td>\n",
       "      <td>2020-01-20T00:00:00.000Z</td>\n",
       "      <td>125 УК№5</td>\n",
       "    </tr>\n",
       "    <tr>\n",
       "      <th>2</th>\n",
       "      <td>921</td>\n",
       "      <td>ПН</td>\n",
       "      <td>1</td>\n",
       "      <td>Математика</td>\n",
       "      <td>преподаватель высшей категории Чикризова Т.М.</td>\n",
       "      <td>лекция</td>\n",
       "      <td>общ</td>\n",
       "      <td>2020-01-27T00:00:00.000Z</td>\n",
       "      <td>125 УК№5</td>\n",
       "    </tr>\n",
       "    <tr>\n",
       "      <th>3</th>\n",
       "      <td>921</td>\n",
       "      <td>ПН</td>\n",
       "      <td>1</td>\n",
       "      <td>Математика</td>\n",
       "      <td>преподаватель высшей категории Чикризова Т.М.</td>\n",
       "      <td>лекция</td>\n",
       "      <td>общ</td>\n",
       "      <td>2020-02-03T00:00:00.000Z</td>\n",
       "      <td>125 УК№5</td>\n",
       "    </tr>\n",
       "    <tr>\n",
       "      <th>4</th>\n",
       "      <td>921</td>\n",
       "      <td>ПН</td>\n",
       "      <td>1</td>\n",
       "      <td>Математика</td>\n",
       "      <td>преподаватель высшей категории Чикризова Т.М.</td>\n",
       "      <td>лекция</td>\n",
       "      <td>общ</td>\n",
       "      <td>2020-02-10T00:00:00.000Z</td>\n",
       "      <td>125 УК№5</td>\n",
       "    </tr>\n",
       "  </tbody>\n",
       "</table>\n",
       "</div>"
      ],
      "text/plain": [
       "  group day  num   item_name                                        teacher  \\\n",
       "0   921  ПН    1  Математика  преподаватель высшей категории Чикризова Т.М.   \n",
       "1   921  ПН    1  Математика  преподаватель высшей категории Чикризова Т.М.   \n",
       "2   921  ПН    1  Математика  преподаватель высшей категории Чикризова Т.М.   \n",
       "3   921  ПН    1  Математика  преподаватель высшей категории Чикризова Т.М.   \n",
       "4   921  ПН    1  Математика  преподаватель высшей категории Чикризова Т.М.   \n",
       "\n",
       "     type pdgr                 date_pair       cab  \n",
       "0  лекция  общ  2020-01-13T00:00:00.000Z  125 УК№5  \n",
       "1  лекция  общ  2020-01-20T00:00:00.000Z  125 УК№5  \n",
       "2  лекция  общ  2020-01-27T00:00:00.000Z  125 УК№5  \n",
       "3  лекция  общ  2020-02-03T00:00:00.000Z  125 УК№5  \n",
       "4  лекция  общ  2020-02-10T00:00:00.000Z  125 УК№5  "
      ]
     },
     "execution_count": 20,
     "metadata": {},
     "output_type": "execute_result"
    }
   ],
   "source": [
    "request = requests.post(f'http://127.0.0.1:5000/merge-books?year=2020')\n",
    "request.status_code\n",
    "df = pd.DataFrame(request.json())\n",
    "df.head()"
   ]
  },
  {
   "cell_type": "code",
   "execution_count": 21,
   "id": "4a7e3d09-8f65-4aac-bdce-d2f213dc178e",
   "metadata": {},
   "outputs": [
    {
     "data": {
      "text/html": [
       "<div>\n",
       "<style scoped>\n",
       "    .dataframe tbody tr th:only-of-type {\n",
       "        vertical-align: middle;\n",
       "    }\n",
       "\n",
       "    .dataframe tbody tr th {\n",
       "        vertical-align: top;\n",
       "    }\n",
       "\n",
       "    .dataframe thead th {\n",
       "        text-align: right;\n",
       "    }\n",
       "</style>\n",
       "<table border=\"1\" class=\"dataframe\">\n",
       "  <thead>\n",
       "    <tr style=\"text-align: right;\">\n",
       "      <th></th>\n",
       "      <th>group</th>\n",
       "      <th>day</th>\n",
       "      <th>num</th>\n",
       "      <th>item_name</th>\n",
       "      <th>teacher</th>\n",
       "      <th>type</th>\n",
       "      <th>pdgr</th>\n",
       "      <th>date_pair</th>\n",
       "      <th>cab</th>\n",
       "    </tr>\n",
       "  </thead>\n",
       "  <tbody>\n",
       "    <tr>\n",
       "      <th>0</th>\n",
       "      <td>921</td>\n",
       "      <td>ПН</td>\n",
       "      <td>1</td>\n",
       "      <td>Математика</td>\n",
       "      <td>преподаватель высшей категории Чикризова Т.М.</td>\n",
       "      <td>лекция</td>\n",
       "      <td>общ</td>\n",
       "      <td>2020-01-13</td>\n",
       "      <td>125 УК№5</td>\n",
       "    </tr>\n",
       "    <tr>\n",
       "      <th>1</th>\n",
       "      <td>921</td>\n",
       "      <td>ПН</td>\n",
       "      <td>1</td>\n",
       "      <td>Математика</td>\n",
       "      <td>преподаватель высшей категории Чикризова Т.М.</td>\n",
       "      <td>лекция</td>\n",
       "      <td>общ</td>\n",
       "      <td>2020-01-20</td>\n",
       "      <td>125 УК№5</td>\n",
       "    </tr>\n",
       "    <tr>\n",
       "      <th>2</th>\n",
       "      <td>921</td>\n",
       "      <td>ПН</td>\n",
       "      <td>1</td>\n",
       "      <td>Математика</td>\n",
       "      <td>преподаватель высшей категории Чикризова Т.М.</td>\n",
       "      <td>лекция</td>\n",
       "      <td>общ</td>\n",
       "      <td>2020-01-27</td>\n",
       "      <td>125 УК№5</td>\n",
       "    </tr>\n",
       "    <tr>\n",
       "      <th>3</th>\n",
       "      <td>921</td>\n",
       "      <td>ПН</td>\n",
       "      <td>1</td>\n",
       "      <td>Математика</td>\n",
       "      <td>преподаватель высшей категории Чикризова Т.М.</td>\n",
       "      <td>лекция</td>\n",
       "      <td>общ</td>\n",
       "      <td>2020-02-03</td>\n",
       "      <td>125 УК№5</td>\n",
       "    </tr>\n",
       "    <tr>\n",
       "      <th>4</th>\n",
       "      <td>921</td>\n",
       "      <td>ПН</td>\n",
       "      <td>1</td>\n",
       "      <td>Математика</td>\n",
       "      <td>преподаватель высшей категории Чикризова Т.М.</td>\n",
       "      <td>лекция</td>\n",
       "      <td>общ</td>\n",
       "      <td>2020-02-10</td>\n",
       "      <td>125 УК№5</td>\n",
       "    </tr>\n",
       "  </tbody>\n",
       "</table>\n",
       "</div>"
      ],
      "text/plain": [
       "  group day  num   item_name                                        teacher  \\\n",
       "0   921  ПН    1  Математика  преподаватель высшей категории Чикризова Т.М.   \n",
       "1   921  ПН    1  Математика  преподаватель высшей категории Чикризова Т.М.   \n",
       "2   921  ПН    1  Математика  преподаватель высшей категории Чикризова Т.М.   \n",
       "3   921  ПН    1  Математика  преподаватель высшей категории Чикризова Т.М.   \n",
       "4   921  ПН    1  Математика  преподаватель высшей категории Чикризова Т.М.   \n",
       "\n",
       "     type pdgr  date_pair       cab  \n",
       "0  лекция  общ 2020-01-13  125 УК№5  \n",
       "1  лекция  общ 2020-01-20  125 УК№5  \n",
       "2  лекция  общ 2020-01-27  125 УК№5  \n",
       "3  лекция  общ 2020-02-03  125 УК№5  \n",
       "4  лекция  общ 2020-02-10  125 УК№5  "
      ]
     },
     "execution_count": 21,
     "metadata": {},
     "output_type": "execute_result"
    }
   ],
   "source": [
    "df['date_pair'] = df['date_pair'].astype('datetime64')\n",
    "df.head()"
   ]
  },
  {
   "cell_type": "code",
   "execution_count": 17,
   "id": "c7fc32bb-3801-4cf3-bfd0-504344abb5f4",
   "metadata": {},
   "outputs": [
    {
     "data": {
      "text/plain": [
       "2022"
      ]
     },
     "execution_count": 17,
     "metadata": {},
     "output_type": "execute_result"
    }
   ],
   "source": [
    "int(df['date_pair'].dt.year.max())"
   ]
  },
  {
   "cell_type": "code",
   "execution_count": 19,
   "id": "d4f1f1e5-48cd-4472-8fe6-ff63a9ca30c2",
   "metadata": {},
   "outputs": [
    {
     "data": {
      "text/plain": [
       "2021.137836353652"
      ]
     },
     "execution_count": 19,
     "metadata": {},
     "output_type": "execute_result"
    },
    {
     "data": {
      "text/plain": [
       "2021.0"
      ]
     },
     "execution_count": 19,
     "metadata": {},
     "output_type": "execute_result"
    },
    {
     "data": {
      "text/plain": [
       "2022.0"
      ]
     },
     "execution_count": 19,
     "metadata": {},
     "output_type": "execute_result"
    }
   ],
   "source": [
    "df['date_pair'].dt.year.mean()\n",
    "df['date_pair'].dt.year.min()\n",
    "df['date_pair'].dt.year.max()"
   ]
  },
  {
   "cell_type": "code",
   "execution_count": 21,
   "id": "22794d18-5c95-4816-b79f-02ae6ba5ce79",
   "metadata": {},
   "outputs": [
    {
     "data": {
      "text/plain": [
       "2021.0    1570\n",
       "2022.0     251\n",
       "Name: date_pair, dtype: int64"
      ]
     },
     "execution_count": 21,
     "metadata": {},
     "output_type": "execute_result"
    }
   ],
   "source": [
    "df['date_pair'].dt.year.value_counts()"
   ]
  },
  {
   "cell_type": "code",
   "execution_count": 46,
   "id": "1ca20482-9623-4f06-a790-a1a996283488",
   "metadata": {},
   "outputs": [
    {
     "data": {
      "text/plain": [
       "ПЕ-81б    606\n",
       "ПЕ-92б    355\n",
       "ИТ-81б    324\n",
       "ОЕ-81б    277\n",
       "МЕ-81б    263\n",
       "Name: group, dtype: int64"
      ]
     },
     "execution_count": 46,
     "metadata": {},
     "output_type": "execute_result"
    }
   ],
   "source": [
    "df['group'].value_counts()"
   ]
  },
  {
   "cell_type": "code",
   "execution_count": 23,
   "id": "3bb2c5c8-4658-4d77-bf9c-8e22470069e6",
   "metadata": {
    "tags": []
   },
   "outputs": [
    {
     "data": {
      "text/plain": [
       "b'<!DOCTYPE html>\\n<html>\\n  <head>\\n    <title>sqlalchemy.exc.IntegrityError: (sqlite3.IntegrityError) U'"
      ]
     },
     "execution_count": 23,
     "metadata": {},
     "output_type": "execute_result"
    }
   ],
   "source": [
    "file_hash = r['file_hash']\n",
    "result_types = ['json', 'excel']\n",
    "result_types = ['json']\n",
    "for sheet_name, groups in r['sheets'].items():\n",
    "    for group_name in groups:\n",
    "        for result_type in result_types:\n",
    "            request = requests.post(f'http://127.0.0.1:5000/parse-book/{file_hash}/{sheet_name}/{group_name}/{result_type}')\n",
    "            request.content[:100]"
   ]
  },
  {
   "cell_type": "code",
   "execution_count": 21,
   "id": "2702285b-c5c6-4289-94d4-26c5df850bba",
   "metadata": {},
   "outputs": [
    {
     "data": {
      "text/plain": [
       "dict_keys(['ПЕ-81б (2)'])"
      ]
     },
     "execution_count": 21,
     "metadata": {},
     "output_type": "execute_result"
    }
   ],
   "source": [
    "r['sheets'].keys()"
   ]
  },
  {
   "cell_type": "code",
   "execution_count": 10,
   "id": "93204d81-a5a6-4d7f-926f-2a8c551b068f",
   "metadata": {},
   "outputs": [
    {
     "name": "stdout",
     "output_type": "stream",
     "text": [
      "Загрузка книги. Код ответа «200»\n"
     ]
    },
    {
     "data": {
      "text/plain": [
       "{'file_hash': '19e390e4fd80a2b80f448e87289087af308324307b6314e84e3085c1e27383b4',\n",
       " 'sheets': {'ПЕ-81б (2)': ['ПЕ-81б']}}"
      ]
     },
     "execution_count": 10,
     "metadata": {},
     "output_type": "execute_result"
    },
    {
     "name": "stdout",
     "output_type": "stream",
     "text": [
      "Парсинг. Код ответа: 200\n"
     ]
    },
    {
     "data": {
      "text/plain": [
       "[{'day': 'ПН',\n",
       "  'num': 1,\n",
       "  'item_name': 'Сетевое программное обеспечение',\n",
       "  'teacher': 'ст.преподаватель Лебедев Г.К.',\n",
       "  'type': 'ЛБ',\n",
       "  'pdgr': '2',\n",
       "  'date_pair': '2022-01-31T00:00:00.000Z',\n",
       "  'cab': '306 УК№1'},\n",
       " {'day': 'ПН',\n",
       "  'num': 1,\n",
       "  'item_name': 'Сетевое программное обеспечение',\n",
       "  'teacher': 'ст.преподаватель Лебедев Г.К.',\n",
       "  'type': 'ЛБ',\n",
       "  'pdgr': '2',\n",
       "  'date_pair': '2022-02-07T00:00:00.000Z',\n",
       "  'cab': '306 УК№1'},\n",
       " {'day': 'ПН',\n",
       "  'num': 1,\n",
       "  'item_name': 'Сетевое программное обеспечение',\n",
       "  'teacher': 'ст.преподаватель Лебедев Г.К.',\n",
       "  'type': 'ЛБ',\n",
       "  'pdgr': '2',\n",
       "  'date_pair': '2022-02-14T00:00:00.000Z',\n",
       "  'cab': '306 УК№1'}]"
      ]
     },
     "execution_count": 10,
     "metadata": {},
     "output_type": "execute_result"
    },
    {
     "name": "stdout",
     "output_type": "stream",
     "text": [
      "\n",
      "Загрузка книги. Код ответа «200»\n"
     ]
    },
    {
     "data": {
      "text/plain": [
       "{'file_hash': '354828d30a445f828c48657f7566703e727832eeec1cc6977147d6df851eec31',\n",
       " 'sheets': {'МИТЕ-91': ['МИТЕ-91']}}"
      ]
     },
     "execution_count": 10,
     "metadata": {},
     "output_type": "execute_result"
    },
    {
     "name": "stdout",
     "output_type": "stream",
     "text": [
      "Парсинг. Код ответа: 200\n"
     ]
    },
    {
     "data": {
      "text/plain": [
       "[{'day': 'ПН',\n",
       "  'num': 1,\n",
       "  'item_name': 'Современные технологии в программировании',\n",
       "  'teacher': 'доцент Обвинцев О.А.',\n",
       "  'type': 'лекция',\n",
       "  'pdgr': 'общ',\n",
       "  'date_pair': '2020-02-10T00:00:00.000Z',\n",
       "  'cab': '310 УК№1'},\n",
       " {'day': 'ПН',\n",
       "  'num': 1,\n",
       "  'item_name': 'Современные технологии в программировании',\n",
       "  'teacher': 'доцент Обвинцев О.А.',\n",
       "  'type': 'лекция',\n",
       "  'pdgr': 'общ',\n",
       "  'date_pair': '2020-03-23T00:00:00.000Z',\n",
       "  'cab': '310 УК№1'},\n",
       " {'day': 'ПН',\n",
       "  'num': 1,\n",
       "  'item_name': 'Современные технологии в программировании',\n",
       "  'teacher': 'доцент Обвинцев О.А.',\n",
       "  'type': 'ЛБ',\n",
       "  'pdgr': 'общ',\n",
       "  'date_pair': '2020-03-30T00:00:00.000Z',\n",
       "  'cab': '310 УК№1'}]"
      ]
     },
     "execution_count": 10,
     "metadata": {},
     "output_type": "execute_result"
    },
    {
     "name": "stdout",
     "output_type": "stream",
     "text": [
      "\n",
      "Загрузка книги. Код ответа «415»\n",
      "Файл должен иметь расширение «.xls» или «.xlsx»\n",
      "\n",
      "Загрузка книги. Код ответа «413»\n",
      "<!DOCTYPE HTML PUBLIC \"-//W3C//DTD HTML 3.2 Final//EN\">\n",
      "<title>413 Request Entity Too Large</title>\n",
      "<h1>Request Entity Too Large</h1>\n",
      "<p>The data value transmitted exceeds the capacity limit.</p>\n",
      "\n",
      "\n"
     ]
    }
   ],
   "source": [
    "files = [\n",
    "         os.path.join(base_dir, 'Tests', 'Datasets', 'PE-81b_2semestr_24_01-13_04.xlsx'),\n",
    "         os.path.join(base_dir, 'Tests', 'Datasets', 'MITE-91_2019-2020_II_semestr.xls'),\n",
    "         os.path.join(base_dir, 'test_parser.ipynb'),\n",
    "         os.path.join(base_dir, 'Design', 'cr_evolve.gif'),\n",
    "        ]\n",
    "\n",
    "for file_path in files:\n",
    "    r = post_request(file_path)\n",
    "    if r.status_code != 200:\n",
    "        print(r.content.decode('utf8'))\n",
    "    else:\n",
    "        r.json()\n",
    "        file_hash = r.json()['file_hash']\n",
    "        # f = [True, True, True, True]\n",
    "        for sheet_name, groups in r.json()['sheets'].items():\n",
    "            for group_name in groups:\n",
    "                # request = requests.post(f'http://127.0.0.1:5000/parse-book?file_hash={file_hash}&sheet_name={sheet_name}&group_name={group_name}')\n",
    "                # request = requests.post(f'http://127.0.0.1:5000/parse-book/{file_hash}/{sheet_name}/{group_name}?f1={f[0]}&f2={f[1]}&f3={f[2]}&f4={f[3]}')\n",
    "                request = requests.post(f'http://127.0.0.1:5000/parse-book/{file_hash}/{sheet_name}/{group_name}')\n",
    "                print(f'Парсинг. Код ответа: {request.status_code}')\n",
    "                try:\n",
    "                    json_data = request.json()\n",
    "                    json_data[:3]\n",
    "                except:\n",
    "                    print('Сервак вернул не JSON')\n",
    "    print()"
   ]
  },
  {
   "cell_type": "code",
   "execution_count": 11,
   "id": "ba657d6d-0bef-4f62-82e8-d7ea0b371ece",
   "metadata": {},
   "outputs": [
    {
     "data": {
      "text/html": [
       "<div>\n",
       "<style scoped>\n",
       "    .dataframe tbody tr th:only-of-type {\n",
       "        vertical-align: middle;\n",
       "    }\n",
       "\n",
       "    .dataframe tbody tr th {\n",
       "        vertical-align: top;\n",
       "    }\n",
       "\n",
       "    .dataframe thead th {\n",
       "        text-align: right;\n",
       "    }\n",
       "</style>\n",
       "<table border=\"1\" class=\"dataframe\">\n",
       "  <thead>\n",
       "    <tr style=\"text-align: right;\">\n",
       "      <th></th>\n",
       "      <th>day</th>\n",
       "      <th>num</th>\n",
       "      <th>item_name</th>\n",
       "      <th>teacher</th>\n",
       "      <th>type</th>\n",
       "      <th>pdgr</th>\n",
       "      <th>date_pair</th>\n",
       "      <th>cab</th>\n",
       "    </tr>\n",
       "  </thead>\n",
       "  <tbody>\n",
       "    <tr>\n",
       "      <th>0</th>\n",
       "      <td>ПН</td>\n",
       "      <td>1</td>\n",
       "      <td>Современные технологии в программировании</td>\n",
       "      <td>доцент Обвинцев О.А.</td>\n",
       "      <td>лекция</td>\n",
       "      <td>общ</td>\n",
       "      <td>2020-02-10T00:00:00.000Z</td>\n",
       "      <td>310 УК№1</td>\n",
       "    </tr>\n",
       "    <tr>\n",
       "      <th>1</th>\n",
       "      <td>ПН</td>\n",
       "      <td>1</td>\n",
       "      <td>Современные технологии в программировании</td>\n",
       "      <td>доцент Обвинцев О.А.</td>\n",
       "      <td>лекция</td>\n",
       "      <td>общ</td>\n",
       "      <td>2020-03-23T00:00:00.000Z</td>\n",
       "      <td>310 УК№1</td>\n",
       "    </tr>\n",
       "    <tr>\n",
       "      <th>2</th>\n",
       "      <td>ПН</td>\n",
       "      <td>1</td>\n",
       "      <td>Современные технологии в программировании</td>\n",
       "      <td>доцент Обвинцев О.А.</td>\n",
       "      <td>ЛБ</td>\n",
       "      <td>общ</td>\n",
       "      <td>2020-03-30T00:00:00.000Z</td>\n",
       "      <td>310 УК№1</td>\n",
       "    </tr>\n",
       "    <tr>\n",
       "      <th>3</th>\n",
       "      <td>ПН</td>\n",
       "      <td>2</td>\n",
       "      <td>Волоконно-оптические системы передачи</td>\n",
       "      <td>доцент Кусайкин Д.В.</td>\n",
       "      <td>лекция</td>\n",
       "      <td>общ</td>\n",
       "      <td>2020-02-10T00:00:00.000Z</td>\n",
       "      <td>101 УК№3</td>\n",
       "    </tr>\n",
       "    <tr>\n",
       "      <th>4</th>\n",
       "      <td>ПН</td>\n",
       "      <td>2</td>\n",
       "      <td>Волоконно-оптические системы передачи</td>\n",
       "      <td>доцент Кусайкин Д.В.</td>\n",
       "      <td>лекция</td>\n",
       "      <td>общ</td>\n",
       "      <td>2020-02-17T00:00:00.000Z</td>\n",
       "      <td>101 УК№3</td>\n",
       "    </tr>\n",
       "  </tbody>\n",
       "</table>\n",
       "</div>"
      ],
      "text/plain": [
       "  day  num                                  item_name               teacher  \\\n",
       "0  ПН    1  Современные технологии в программировании  доцент Обвинцев О.А.   \n",
       "1  ПН    1  Современные технологии в программировании  доцент Обвинцев О.А.   \n",
       "2  ПН    1  Современные технологии в программировании  доцент Обвинцев О.А.   \n",
       "3  ПН    2      Волоконно-оптические системы передачи  доцент Кусайкин Д.В.   \n",
       "4  ПН    2      Волоконно-оптические системы передачи  доцент Кусайкин Д.В.   \n",
       "\n",
       "     type pdgr                 date_pair       cab  \n",
       "0  лекция  общ  2020-02-10T00:00:00.000Z  310 УК№1  \n",
       "1  лекция  общ  2020-03-23T00:00:00.000Z  310 УК№1  \n",
       "2      ЛБ  общ  2020-03-30T00:00:00.000Z  310 УК№1  \n",
       "3  лекция  общ  2020-02-10T00:00:00.000Z  101 УК№3  \n",
       "4  лекция  общ  2020-02-17T00:00:00.000Z  101 УК№3  "
      ]
     },
     "execution_count": 11,
     "metadata": {},
     "output_type": "execute_result"
    }
   ],
   "source": [
    "pd.DataFrame(json_data).head()"
   ]
  },
  {
   "cell_type": "code",
   "execution_count": 12,
   "id": "4d8710e5-b040-47f0-9518-23a8417c8c48",
   "metadata": {},
   "outputs": [
    {
     "data": {
      "text/plain": [
       "{'Server': 'Werkzeug/2.1.1 Python/3.9.1', 'Date': 'Mon, 25 Apr 2022 04:28:00 GMT', 'Content-Type': 'text/html; charset=utf-8', 'Content-Length': '196'}"
      ]
     },
     "execution_count": 12,
     "metadata": {},
     "output_type": "execute_result"
    }
   ],
   "source": [
    "r.headers"
   ]
  },
  {
   "cell_type": "markdown",
   "id": "7ac21ea7-30e1-489b-ae1a-8b45c600dae4",
   "metadata": {},
   "source": [
    "# 2. Тестирование API"
   ]
  }
 ],
 "metadata": {
  "kernelspec": {
   "display_name": "Python 3 (ipykernel)",
   "language": "python",
   "name": "python3"
  },
  "language_info": {
   "codemirror_mode": {
    "name": "ipython",
    "version": 3
   },
   "file_extension": ".py",
   "mimetype": "text/x-python",
   "name": "python",
   "nbconvert_exporter": "python",
   "pygments_lexer": "ipython3",
   "version": "3.8.10"
  }
 },
 "nbformat": 4,
 "nbformat_minor": 5
}
